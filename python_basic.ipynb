{
 "cells": [
  {
   "cell_type": "code",
   "execution_count": 5,
   "id": "9da8ab3b",
   "metadata": {},
   "outputs": [
    {
     "name": "stdout",
     "output_type": "stream",
     "text": [
      "f : True\n",
      "g : True\n"
     ]
    }
   ],
   "source": [
    "f = g= True\n",
    "\n",
    "print('f :',f)\n",
    "print('g :',g)"
   ]
  },
  {
   "cell_type": "code",
   "execution_count": 2,
   "id": "920293e6",
   "metadata": {},
   "outputs": [
    {
     "name": "stdout",
     "output_type": "stream",
     "text": [
      "f : True\n",
      "g : True\n"
     ]
    }
   ],
   "source": [
    "f = g =  True\n",
    "\n",
    "print('f :', f)\n",
    "print('g :', g)"
   ]
  },
  {
   "cell_type": "code",
   "execution_count": 6,
   "id": "52827b1d",
   "metadata": {},
   "outputs": [
    {
     "name": "stdout",
     "output_type": "stream",
     "text": [
      "1\n",
      "2\n",
      "3\n",
      "4\n",
      "5\n",
      "6\n",
      "7\n",
      "8\n",
      "9\n",
      "10\n"
     ]
    }
   ],
   "source": [
    "#1~10까지 출력하는 코드를 while문으로 작성\n",
    "num = 1\n",
    "while num <= 10:\n",
    "    print(num)\n",
    "    num += 1"
   ]
  },
  {
   "cell_type": "code",
   "execution_count": 7,
   "id": "c09c6603",
   "metadata": {},
   "outputs": [
    {
     "name": "stdout",
     "output_type": "stream",
     "text": [
      "꽈배기가 10 개 있습니다.\n",
      "주문 개수:10\n",
      "남은 꽈배기는 korean_pretzel 개 입니다.\n",
      "*************************\n",
      "꽈배기가 품절입니다.\n"
     ]
    }
   ],
   "source": [
    "#꽈배기가 품절일 때\n",
    "korean_pretzel = 10\n",
    "while korean_pretzel:\n",
    "    print('꽈배기가', korean_pretzel, '개 있습니다.')\n",
    "    order = int(input('주문 개수:'))\n",
    "    korean_pretzel -= order\n",
    "    print('남은 꽈배기는','korean_pretzel','개 입니다.')\n",
    "    print ('*'*25)\n",
    "    if korean_pretzel <= 0:\n",
    "        print('꽈배기가 품절입니다.')\n",
    "        break "
   ]
  },
  {
   "cell_type": "code",
   "execution_count": 11,
   "id": "98ebc073",
   "metadata": {},
   "outputs": [
    {
     "name": "stdout",
     "output_type": "stream",
     "text": [
      "1\n"
     ]
    }
   ],
   "source": [
    "a = 0\n",
    "while a < 10:\n",
    "    a += 1\n",
    "    if a % 2 == 0:\n",
    "        break\n",
    "    print(a)"
   ]
  },
  {
   "cell_type": "code",
   "execution_count": 12,
   "id": "b520c4c5",
   "metadata": {},
   "outputs": [
    {
     "name": "stdout",
     "output_type": "stream",
     "text": [
      "1\n",
      "3\n",
      "5\n",
      "7\n",
      "9\n"
     ]
    }
   ],
   "source": [
    "a = 0\n",
    "while a < 10:\n",
    "    a += 1\n",
    "    if a%2 ==0:\n",
    "        continue\n",
    "    print(a)"
   ]
  },
  {
   "cell_type": "code",
   "execution_count": null,
   "id": "93b5455c",
   "metadata": {},
   "outputs": [],
   "source": [
    "print('안녕')"
   ]
  },
  {
   "cell_type": "code",
   "execution_count": null,
   "id": "1cb15685",
   "metadata": {},
   "outputs": [],
   "source": [
    "print('안녕')"
   ]
  },
  {
   "cell_type": "code",
   "execution_count": null,
   "id": "20fad6e0",
   "metadata": {},
   "outputs": [],
   "source": [
    "a = 0\n",
    "while a < 10:\n",
    "    a += 1\n",
    "    if a%2 ==0:\n",
    "        continue\n",
    "    print(a)"
   ]
  },
  {
   "cell_type": "code",
   "execution_count": 20,
   "id": "61e472cd",
   "metadata": {},
   "outputs": [
    {
     "name": "stdout",
     "output_type": "stream",
     "text": [
      "안녕\n"
     ]
    }
   ],
   "source": [
    "print ('안녕')"
   ]
  },
  {
   "cell_type": "code",
   "execution_count": null,
   "id": "ac86b077",
   "metadata": {},
   "outputs": [],
   "source": []
  }
 ],
 "metadata": {
  "kernelspec": {
   "display_name": "Python 3 (ipykernel)",
   "language": "python",
   "name": "python3"
  },
  "language_info": {
   "codemirror_mode": {
    "name": "ipython",
    "version": 3
   },
   "file_extension": ".py",
   "mimetype": "text/x-python",
   "name": "python",
   "nbconvert_exporter": "python",
   "pygments_lexer": "ipython3",
   "version": "3.9.7"
  }
 },
 "nbformat": 4,
 "nbformat_minor": 5
}
