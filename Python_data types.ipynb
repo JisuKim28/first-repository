{
 "cells": [
  {
   "cell_type": "code",
   "execution_count": 1,
   "id": "d84ae1df",
   "metadata": {},
   "outputs": [
    {
     "name": "stdout",
     "output_type": "stream",
     "text": [
      "4\n"
     ]
    }
   ],
   "source": [
    "# 일반대입식\n",
    "a = 3\n",
    "a = a+1\n",
    "print(a)"
   ]
  },
  {
   "cell_type": "code",
   "execution_count": 2,
   "id": "fac56ac5",
   "metadata": {},
   "outputs": [
    {
     "name": "stdout",
     "output_type": "stream",
     "text": [
      "4\n"
     ]
    }
   ],
   "source": [
    "# 복합 대입 연산자 (덧셈)\n",
    "a = 3\n",
    "a += 1\n",
    "print(a)"
   ]
  },
  {
   "cell_type": "code",
   "execution_count": 3,
   "id": "b4b8e0b5",
   "metadata": {},
   "outputs": [
    {
     "data": {
      "text/plain": [
       "'Hello \\nWorld!'"
      ]
     },
     "execution_count": 3,
     "metadata": {},
     "output_type": "execute_result"
    }
   ],
   "source": [
    "Print\"Hello \\nWorld!\""
   ]
  },
  {
   "cell_type": "code",
   "execution_count": 4,
   "id": "f02cb564",
   "metadata": {},
   "outputs": [
    {
     "data": {
      "text/plain": [
       "'Hello |nWorld!'"
      ]
     },
     "execution_count": 4,
     "metadata": {},
     "output_type": "execute_result"
    }
   ],
   "source": [
    "\"Hello |nWorld!\""
   ]
  },
  {
   "cell_type": "code",
   "execution_count": 5,
   "id": "f211aa33",
   "metadata": {},
   "outputs": [
    {
     "data": {
      "text/plain": [
       "'Hello \\nWorld!'"
      ]
     },
     "execution_count": 5,
     "metadata": {},
     "output_type": "execute_result"
    }
   ],
   "source": [
    "\"Hello \\nWorld!\""
   ]
  },
  {
   "cell_type": "code",
   "execution_count": 6,
   "id": "be93212f",
   "metadata": {},
   "outputs": [
    {
     "data": {
      "text/plain": [
       "'Hello \\tWorld!'"
      ]
     },
     "execution_count": 6,
     "metadata": {},
     "output_type": "execute_result"
    }
   ],
   "source": [
    "a = \"Hello \\tWorld!\""
   ]
  },
  {
   "cell_type": "code",
   "execution_count": 7,
   "id": "9c156bb6",
   "metadata": {},
   "outputs": [
    {
     "name": "stdout",
     "output_type": "stream",
     "text": [
      "Hello \tWorld!\n"
     ]
    }
   ],
   "source": [
    "print (\"Hello \\tWorld!\")"
   ]
  },
  {
   "cell_type": "code",
   "execution_count": 8,
   "id": "07b3e83d",
   "metadata": {},
   "outputs": [],
   "source": [
    "a = \"Hello \\tWorld!\""
   ]
  },
  {
   "cell_type": "code",
   "execution_count": 9,
   "id": "0e7083f9",
   "metadata": {},
   "outputs": [
    {
     "name": "stdout",
     "output_type": "stream",
     "text": [
      "Hello \tWorld!\n"
     ]
    }
   ],
   "source": [
    "print(a)"
   ]
  },
  {
   "cell_type": "code",
   "execution_count": 11,
   "id": "5692e54a",
   "metadata": {},
   "outputs": [
    {
     "name": "stdout",
     "output_type": "stream",
     "text": [
      "Hello \n",
      "World!\n"
     ]
    }
   ],
   "source": [
    "# 줄바꿈\n",
    "print (\"Hello \\nWorld!\")"
   ]
  },
  {
   "cell_type": "code",
   "execution_count": 12,
   "id": "8f656598",
   "metadata": {},
   "outputs": [
    {
     "name": "stdout",
     "output_type": "stream",
     "text": [
      "Hello \tWorld!\n"
     ]
    }
   ],
   "source": [
    "# 탭\n",
    "print (\"Hello \\tWorld!\")"
   ]
  },
  {
   "cell_type": "code",
   "execution_count": 13,
   "id": "7e2e9954",
   "metadata": {},
   "outputs": [
    {
     "name": "stdout",
     "output_type": "stream",
     "text": [
      "C:\\User\n"
     ]
    }
   ],
   "source": [
    "# 슬래시\n",
    "print (\"C:\\\\User\")"
   ]
  },
  {
   "cell_type": "code",
   "execution_count": 14,
   "id": "1bf3bf2d",
   "metadata": {},
   "outputs": [
    {
     "ename": "NameError",
     "evalue": "name 'Print' is not defined",
     "output_type": "error",
     "traceback": [
      "\u001b[0;31m---------------------------------------------------------------------------\u001b[0m",
      "\u001b[0;31mNameError\u001b[0m                                 Traceback (most recent call last)",
      "\u001b[0;32m/tmp/ipykernel_37/1101272728.py\u001b[0m in \u001b[0;36m<module>\u001b[0;34m\u001b[0m\n\u001b[0;32m----> 1\u001b[0;31m \u001b[0mPrint\u001b[0m \u001b[0;34m(\u001b[0m\u001b[0;34m\"C:\\\\User\"\u001b[0m\u001b[0;34m)\u001b[0m\u001b[0;34m\u001b[0m\u001b[0;34m\u001b[0m\u001b[0m\n\u001b[0m",
      "\u001b[0;31mNameError\u001b[0m: name 'Print' is not defined"
     ]
    }
   ],
   "source": [
    "Print (\"C:\\\\User\")"
   ]
  },
  {
   "cell_type": "code",
   "execution_count": 15,
   "id": "f5528800",
   "metadata": {},
   "outputs": [
    {
     "name": "stdout",
     "output_type": "stream",
     "text": [
      "C:\\User\n"
     ]
    }
   ],
   "source": [
    "print (\"C:\\\\User\")"
   ]
  },
  {
   "cell_type": "code",
   "execution_count": 16,
   "id": "26fc9724",
   "metadata": {},
   "outputs": [
    {
     "name": "stdout",
     "output_type": "stream",
     "text": [
      "It's OK\n"
     ]
    }
   ],
   "source": [
    "print ('It\\'s OK')"
   ]
  },
  {
   "cell_type": "code",
   "execution_count": 17,
   "id": "25018d09",
   "metadata": {},
   "outputs": [
    {
     "name": "stdout",
     "output_type": "stream",
     "text": [
      "she said \"Hi\"\n"
     ]
    }
   ],
   "source": [
    "print (\"she said \\\"Hi\\\"\")"
   ]
  },
  {
   "cell_type": "code",
   "execution_count": 18,
   "id": "d03171b8",
   "metadata": {},
   "outputs": [
    {
     "name": "stdout",
     "output_type": "stream",
     "text": [
      "130\n"
     ]
    }
   ],
   "source": [
    "#실습문제\n",
    "num = \\\n",
    "13*1 + \\\n",
    "13*2 + \\\n",
    "13*3 + \\\n",
    "13*4\n",
    "print(num)"
   ]
  },
  {
   "cell_type": "code",
   "execution_count": 21,
   "id": "9e486b29",
   "metadata": {},
   "outputs": [
    {
     "name": "stdout",
     "output_type": "stream",
     "text": [
      "파이썬이 이렇게 재밌다니!\n"
     ]
    },
    {
     "data": {
      "text/plain": [
       "14"
      ]
     },
     "execution_count": 21,
     "metadata": {},
     "output_type": "execute_result"
    }
   ],
   "source": [
    "#문자열 구하기\n",
    "python = \"\"\"파이썬이 이렇게 재밌다니!\"\"\"\n",
    "print(python)\n",
    "len(python)"
   ]
  },
  {
   "cell_type": "code",
   "execution_count": 23,
   "id": "9508a7be",
   "metadata": {},
   "outputs": [
    {
     "data": {
      "text/plain": [
       "'이'"
      ]
     },
     "execution_count": 23,
     "metadata": {},
     "output_type": "execute_result"
    }
   ],
   "source": [
    "#문자열 인덱싱\n",
    "python = \"파이썬이 이렇게 재밌다니!\"\n",
    "python[3]"
   ]
  },
  {
   "cell_type": "code",
   "execution_count": 24,
   "id": "8d04fda9",
   "metadata": {},
   "outputs": [
    {
     "data": {
      "text/plain": [
       "int"
      ]
     },
     "execution_count": 24,
     "metadata": {},
     "output_type": "execute_result"
    }
   ],
   "source": [
    "type(5)"
   ]
  },
  {
   "cell_type": "code",
   "execution_count": 25,
   "id": "2d168d99",
   "metadata": {},
   "outputs": [
    {
     "data": {
      "text/plain": [
       "' 파이썬이\\n이렇게 재밌다니'"
      ]
     },
     "execution_count": 25,
     "metadata": {},
     "output_type": "execute_result"
    }
   ],
   "source": [
    "\"\"\" 파이썬이\n",
    "이렇게 재밌다니\"\"\""
   ]
  },
  {
   "cell_type": "code",
   "execution_count": 27,
   "id": "9e83cb87",
   "metadata": {},
   "outputs": [
    {
     "name": "stdout",
     "output_type": "stream",
     "text": [
      " 파이썬이 이렇게\n",
      "재밌다니\n"
     ]
    }
   ],
   "source": [
    "python = \"\"\" 파이썬이 이렇게\n",
    "재밌다니\"\"\"\n",
    "\n",
    "print (python)"
   ]
  },
  {
   "cell_type": "code",
   "execution_count": 29,
   "id": "818768fe",
   "metadata": {},
   "outputs": [
    {
     "name": "stdout",
     "output_type": "stream",
     "text": [
      " '파이썬'이 이렇게 재밌다니!\n"
     ]
    }
   ],
   "source": [
    "lucky = \"\"\" '파이썬'이 이렇게 재밌다니!\"\"\"\n",
    "print (lucky)"
   ]
  },
  {
   "cell_type": "code",
   "execution_count": 30,
   "id": "c9946127",
   "metadata": {},
   "outputs": [
    {
     "data": {
      "text/plain": [
       "' 파이썬 재밌다'"
      ]
     },
     "execution_count": 30,
     "metadata": {},
     "output_type": "execute_result"
    }
   ],
   "source": [
    "\"\"\" 파이썬 재밌다\"\"\""
   ]
  },
  {
   "cell_type": "code",
   "execution_count": 31,
   "id": "4b127049",
   "metadata": {},
   "outputs": [
    {
     "data": {
      "text/plain": [
       "'파이썬 재밌다'"
      ]
     },
     "execution_count": 31,
     "metadata": {},
     "output_type": "execute_result"
    }
   ],
   "source": [
    "\"파이썬 재밌다\""
   ]
  },
  {
   "cell_type": "code",
   "execution_count": 32,
   "id": "e0983a76",
   "metadata": {},
   "outputs": [
    {
     "name": "stdout",
     "output_type": "stream",
     "text": [
      "hello aiffel\n"
     ]
    }
   ],
   "source": [
    "# 문자열 슬라이싱\n",
    "slicing = \"hello aiffel\"\n",
    "\n",
    "print(slicing[:])"
   ]
  },
  {
   "cell_type": "code",
   "execution_count": 33,
   "id": "5ae80c6b",
   "metadata": {},
   "outputs": [
    {
     "name": "stdout",
     "output_type": "stream",
     "text": [
      "hell\n"
     ]
    }
   ],
   "source": [
    "print(slicing[:4])"
   ]
  },
  {
   "cell_type": "code",
   "execution_count": 35,
   "id": "75b6c739",
   "metadata": {},
   "outputs": [
    {
     "name": "stdout",
     "output_type": "stream",
     "text": [
      "hell\n"
     ]
    }
   ],
   "source": [
    "print (slicing[0:4])"
   ]
  },
  {
   "cell_type": "code",
   "execution_count": 38,
   "id": "ba38840e",
   "metadata": {},
   "outputs": [
    {
     "name": "stdout",
     "output_type": "stream",
     "text": [
      "123456789\n"
     ]
    }
   ],
   "source": [
    "num = '123456789'\n",
    "print(num[::])"
   ]
  },
  {
   "cell_type": "code",
   "execution_count": 39,
   "id": "559a416f",
   "metadata": {},
   "outputs": [
    {
     "name": "stdout",
     "output_type": "stream",
     "text": [
      "13579\n"
     ]
    }
   ],
   "source": [
    "num = '123456789'\n",
    "print(num[::2])"
   ]
  },
  {
   "cell_type": "code",
   "execution_count": 40,
   "id": "2ebe5d8f",
   "metadata": {},
   "outputs": [
    {
     "name": "stdout",
     "output_type": "stream",
     "text": [
      "123456789\n"
     ]
    }
   ],
   "source": [
    "num = '123456789'\n",
    "print(num[::])"
   ]
  },
  {
   "cell_type": "code",
   "execution_count": 41,
   "id": "a9e46b43",
   "metadata": {},
   "outputs": [
    {
     "data": {
      "text/plain": [
       "5"
      ]
     },
     "execution_count": 41,
     "metadata": {},
     "output_type": "execute_result"
    }
   ],
   "source": [
    "a = [1,2,3,4,5]\n",
    "a[4]"
   ]
  },
  {
   "cell_type": "code",
   "execution_count": 42,
   "id": "327b5857",
   "metadata": {},
   "outputs": [
    {
     "data": {
      "text/plain": [
       "5"
      ]
     },
     "execution_count": 42,
     "metadata": {},
     "output_type": "execute_result"
    }
   ],
   "source": [
    "a = [1,2,3,4,5]\n",
    "a[-1]"
   ]
  },
  {
   "cell_type": "code",
   "execution_count": 43,
   "id": "0ce11cca",
   "metadata": {},
   "outputs": [
    {
     "data": {
      "text/plain": [
       "'안녕'"
      ]
     },
     "execution_count": 43,
     "metadata": {},
     "output_type": "execute_result"
    }
   ],
   "source": [
    "a = [1,2,['안녕','하세요'],3,4]\n",
    "a[2][0]"
   ]
  },
  {
   "cell_type": "code",
   "execution_count": 46,
   "id": "2fdb5d2b",
   "metadata": {},
   "outputs": [
    {
     "data": {
      "text/plain": [
       "2"
      ]
     },
     "execution_count": 46,
     "metadata": {},
     "output_type": "execute_result"
    }
   ],
   "source": [
    "list2 = ['a','b','c']\n",
    "del list2[1]\n",
    "list2\n",
    "len(list2)"
   ]
  },
  {
   "cell_type": "code",
   "execution_count": null,
   "id": "f080905a",
   "metadata": {},
   "outputs": [],
   "source": []
  }
 ],
 "metadata": {
  "kernelspec": {
   "display_name": "Python 3 (ipykernel)",
   "language": "python",
   "name": "python3"
  },
  "language_info": {
   "codemirror_mode": {
    "name": "ipython",
    "version": 3
   },
   "file_extension": ".py",
   "mimetype": "text/x-python",
   "name": "python",
   "nbconvert_exporter": "python",
   "pygments_lexer": "ipython3",
   "version": "3.9.7"
  }
 },
 "nbformat": 4,
 "nbformat_minor": 5
}
